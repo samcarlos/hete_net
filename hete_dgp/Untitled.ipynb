{
 "cells": [
  {
   "cell_type": "code",
   "execution_count": 53,
   "metadata": {},
   "outputs": [],
   "source": [
    "from load_data import load_data\n",
    "from hete_optim import gridsearch_hete_optim_action, hete_optim_action, lelu\n",
    "import pandas as pd\n",
    "import numpy as np\n",
    "\n",
    "def load_data(scenario, directory = '/Users/sweiss/src/hete_net/hete_dgp/created_data/'):\n",
    "  t = np.array(pd.read_csv(directory+'scenario_'+str(scenario)+'_t.csv'))\n",
    "  t_x = np.array(pd.read_csv(directory+'scenario_'+str(scenario)+'_t_x.csv'))\n",
    "  x = np.array(pd.read_csv(directory+'scenario_'+str(scenario)+'_x.csv'))\n",
    "  y = np.array(pd.read_csv(directory+'scenario_'+str(scenario)+'_y.csv'))\n",
    "\n",
    "  t_train = t[:15000]\n",
    "  t_x_train = t_x[:15000]\n",
    "  x_train = x[:15000]\n",
    "  y_train = y[:15000]\n",
    "\n",
    "  t_test = t[15000:]\n",
    "  t_x_test = t_x[15000:]\n",
    "  x_test = x[15000:]\n",
    "  y_test = y[15000:]\n",
    "\n",
    "  return([t_train, t_test, t_x_train, t_x_test, x_train, x_test, y_train,y_test])\n",
    "\n",
    "scenario_number = 1\n",
    "t_train, t_test, t_x_train, t_x_test, X_train, X_test, y_train,y_test = load_data(scenario_number)\n"
   ]
  },
  {
   "cell_type": "code",
   "execution_count": 54,
   "metadata": {},
   "outputs": [
    {
     "data": {
      "text/plain": [
       "(array([  10.,   42.,  179.,  374., 1845.,  305.,  182.,   42.,   15.,\n",
       "           6.]),\n",
       " array([-6.83289787, -5.23263667, -3.63237546, -2.03211426, -0.43185305,\n",
       "         1.16840815,  2.76866936,  4.36893057,  5.96919177,  7.56945298,\n",
       "         9.16971418]),\n",
       " <a list of 10 Patch objects>)"
      ]
     },
     "execution_count": 54,
     "metadata": {},
     "output_type": "execute_result"
    },
    {
     "data": {
      "image/png": "[encoded data removed]",
      "text/plain": [
       "<Figure size 432x288 with 1 Axes>"
      ]
     },
     "metadata": {},
     "output_type": "display_data"
    }
   ],
   "source": [
    "%matplotlib inline\n",
    "\n",
    "import matplotlib\n",
    "import numpy as np\n",
    "import matplotlib.pyplot as plt\n",
    "\n",
    "plt.hist(t_x_test)"
   ]
  },
  {
   "cell_type": "code",
   "execution_count": null,
   "metadata": {},
   "outputs": [
    {
     "name": "stdout",
     "output_type": "stream",
     "text": [
      "Epoch 1/50\n",
      "15000/15000 [==============================] - 2s 155us/step - loss: -0.1697\n",
      "Epoch 2/50\n",
      "15000/15000 [==============================] - 2s 106us/step - loss: -0.1726\n",
      "Epoch 3/50\n",
      "15000/15000 [==============================] - 2s 106us/step - loss: -0.1726\n",
      "Epoch 4/50\n",
      "15000/15000 [==============================] - 2s 103us/step - loss: -0.1726\n",
      "Epoch 5/50\n",
      "15000/15000 [==============================] - 2s 103us/step - loss: -0.1726\n",
      "Epoch 6/50\n",
      " 7712/15000 [==============>...............] - ETA: 0s - loss: -0.1731"
     ]
    }
   ],
   "source": [
    "model = hete_optim_action(X_train.shape[1],128,.5, 3, lelu )\n",
    "dummy_y_train = np.concatenate([1-t_train, t_train, y_train], axis = 1)\n",
    "\n",
    "model.fit([X_train,X_train[:,0]],np.array(dummy_y_train),epochs = 50)"
   ]
  },
  {
   "cell_type": "code",
   "execution_count": 52,
   "metadata": {},
   "outputs": [
    {
     "name": "stdout",
     "output_type": "stream",
     "text": [
      "0.08566666666666667\n",
      "0.08566666666666667\n"
     ]
    },
    {
     "data": {
      "text/plain": [
       "<matplotlib.collections.PathCollection at 0x1368ee0b8>"
      ]
     },
     "execution_count": 52,
     "metadata": {},
     "output_type": "execute_result"
    },
    {
     "data": {
      "image/png": "[encoded data removed]",
      "text/plain": [
       "<Figure size 432x288 with 1 Axes>"
      ]
     },
     "metadata": {},
     "output_type": "display_data"
    }
   ],
   "source": [
    "predictions = model.predict([X_test,X_test[:,0]])\n",
    "print(y_test[np.where(predictions[:,1]>0)[0]].mean())\n",
    "print(y_test[np.where(predictions[:,0]>0)[0]].mean())\n",
    "plt.scatter(predictions[:,0], t_x_test)"
   ]
  },
  {
   "cell_type": "code",
   "execution_count": null,
   "metadata": {
    "collapsed": true
   },
   "outputs": [],
   "source": [
    "\n",
    "\n",
    "model = gridsearch_hete_optim_action(X_train, t_train, y_train)\n",
    "\n",
    "\n",
    "predictions = model.predict([X_test,X_test[:,0]])\n",
    "pd.DataFrame(predictions).to_csv('/Users/sweiss/src/hete_net/hete_dgp/predicted_data_hete_net/hete_preds_optim_'+str(scenario_number)+'.csv')\n"
   ]
  }
 ],
 "metadata": {
  "kernelspec": {
   "display_name": "Python 3",
   "language": "python",
   "name": "python3"
  },
  "language_info": {
   "codemirror_mode": {
    "name": "ipython",
    "version": 3
   },
   "file_extension": ".py",
   "mimetype": "text/x-python",
   "name": "python",
   "nbconvert_exporter": "python",
   "pygments_lexer": "ipython3",
   "version": "3.6.1"
  }
 },
 "nbformat": 4,
 "nbformat_minor": 2
}
