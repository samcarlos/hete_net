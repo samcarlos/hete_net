{
 "cells": [
  {
   "cell_type": "code",
   "execution_count": 2,
   "metadata": {},
   "outputs": [
    {
     "name": "stderr",
     "output_type": "stream",
     "text": [
      "/Library/Frameworks/Python.framework/Versions/3.6/lib/python3.6/site-packages/ipykernel_launcher.py:97: RuntimeWarning: divide by zero encountered in log\n",
      "/Library/Frameworks/Python.framework/Versions/3.6/lib/python3.6/site-packages/ipykernel_launcher.py:42: RuntimeWarning: invalid value encountered in true_divide\n",
      "/Library/Frameworks/Python.framework/Versions/3.6/lib/python3.6/site-packages/ipykernel_launcher.py:43: RuntimeWarning: invalid value encountered in true_divide\n",
      "/Library/Frameworks/Python.framework/Versions/3.6/lib/python3.6/site-packages/ipykernel_launcher.py:100: FutureWarning: reshape is deprecated and will raise in a subsequent release. Please use .values.reshape(...) instead\n",
      "/Library/Frameworks/Python.framework/Versions/3.6/lib/python3.6/site-packages/ipykernel_launcher.py:61: FutureWarning: reshape is deprecated and will raise in a subsequent release. Please use .values.reshape(...) instead\n",
      "/Library/Frameworks/Python.framework/Versions/3.6/lib/python3.6/site-packages/ipykernel_launcher.py:76: FutureWarning: reshape is deprecated and will raise in a subsequent release. Please use .values.reshape(...) instead\n"
     ]
    }
   ],
   "source": [
    "import numpy as np\n",
    "import pandas as pd\n",
    "\n",
    "def load_data(scenario, directory = '/Users/sweiss/src/hete_net/hete_dgp/created_data/'):\n",
    "  t = np.array(pd.read_csv(directory+'scenario_'+str(scenario)+'_t.csv'))\n",
    "  t_x = np.array(pd.read_csv(directory+'scenario_'+str(scenario)+'_t_x.csv'))\n",
    "  x = np.array(pd.read_csv(directory+'scenario_'+str(scenario)+'_x.csv'))\n",
    "  y = np.array(pd.read_csv(directory+'scenario_'+str(scenario)+'_y.csv'))\n",
    "  y_mean = np.array(pd.read_csv(directory+'scenario_'+str(scenario)+'_y_mean.csv'))\n",
    "\n",
    "\n",
    "  t_train = t[:15000]\n",
    "  t_x_train = t_x[:15000]\n",
    "  x_train = x[:15000]\n",
    "  y_train = y[:15000]\n",
    "  y_train_mean = y_mean[:15000]\n",
    "    \n",
    "    \n",
    "  t_test = t[15000:]\n",
    "  t_x_test = t_x[15000:]\n",
    "  x_test = x[15000:]\n",
    "  y_test = y[15000:]\n",
    "  y_test_mean  = y_mean[15000:]\n",
    "\n",
    "  return([t_train, t_test, t_x_train, t_x_test, x_train, x_test, y_train,y_test, y_train_mean, y_test_mean])\n",
    "\n",
    "\n",
    "def eval(hete_score, y_test, tmt_test):\n",
    "    y = y_test.copy()\n",
    "    d = hete_score\n",
    "    ATE = y_test[tmt_test == 1].mean() - y_test[tmt_test == 0].mean()\n",
    "\n",
    "    decreasing = np.argsort(d)[::-1]\n",
    "    y_decreasing = y[decreasing]\n",
    "    tmt_decreasing = tmt_test[decreasing]\n",
    "    control_decreasing = 1 - tmt_decreasing\n",
    "    y_tmt_decreasing = y_decreasing.copy()\n",
    "    y_tmt_decreasing[control_decreasing == 1] = 0\n",
    "    y_control_decreasing = y_decreasing.copy()\n",
    "    y_control_decreasing[tmt_decreasing == 1] = 0\n",
    "\n",
    "    lhs = y_tmt_decreasing.cumsum() / tmt_decreasing.cumsum()\n",
    "    rhs = y_control_decreasing.cumsum() / control_decreasing.cumsum()\n",
    "    N = decreasing.shape[0]\n",
    "    random_policy = ATE * np.arange(1, N + 1) / N\n",
    "    optimal_policy = lhs - rhs\n",
    "\n",
    "    optimal_policy[optimal_policy == -np.inf] = 0\n",
    "    optimal_policy[optimal_policy == np.inf] = 0\n",
    "    optimal_policy[np.isnan(optimal_policy)] = 0\n",
    "    out = optimal_policy - random_policy\n",
    "    q = np.trapz(out, dx=1/N)\n",
    "    return q, ATE, optimal_policy, random_policy\n",
    "\n",
    "\n",
    "def sigmoid(x):\n",
    "    return(1/(1+np.exp(-x)))\n",
    "    \n",
    "def regret(t_true, t_estimate):\n",
    "    t_true = t_true.reshape(len(t_true), 1)\n",
    "    t_estimate = t_estimate.reshape(len(t_estimate), 1)\n",
    "\n",
    "    optim_gain = t_true.copy()\n",
    "    optim_gain[np.where(optim_gain < 0)[0]] = 0\n",
    "    optim_gain = sigmoid(optim_gain)\n",
    "    gains = t_true.copy()\n",
    "    gains[np.where(t_estimate<0)[0]] = 0\n",
    "    gains = sigmoid(gains)\n",
    "    regret = (np.sum(optim_gain) - np.sum(gains))\n",
    "    return([np.sum(optim_gain) , np.sum(gains)])\n",
    "\n",
    "def expected_profit(t_true, t_estimate,y_mean,t):\n",
    "    t = t.reshape(len(t), 1)\n",
    "    t_true = t_true.reshape(len(t_true), 1)\n",
    "    y_mean= y_mean.reshape(len(y_mean), 1)\n",
    "    t_estimate = t_estimate.reshape(len(t_estimate), 1)\n",
    "    \n",
    "    \n",
    "    y_mean =  y_mean - (t - .5)*t_true\n",
    "    \n",
    "    optim_gain = y_mean.copy()\n",
    "    optim_gain[np.where(t_true > 0)[0]] = optim_gain[np.where(t_true > 0)[0]] + .5*t_true[np.where(t_true > 0)[0]]\n",
    "    optim_gain = sigmoid(optim_gain)\n",
    "    \n",
    "    gains = y_mean.copy()\n",
    "    gains[np.where(t_estimate > 0)[0]] = gains[np.where(t_estimate > 0)[0]] + .5*t_true[np.where(t_estimate > 0)[0]]\n",
    "    gains = sigmoid(gains)\n",
    "    return(np.sum(gains)/ np.sum(optim_gain) )\n",
    "\n",
    "\n",
    "\n",
    "def load_return_score(scenario_number):\n",
    "    t_train, t_test, t_x_train, t_x_test, X_train, X_test, y_train,y_test, y_train_mean, y_test_mean = load_data(scenario_number, directory = 'created_data/')\n",
    "    hete_preds = pd.read_csv('/Users/sweiss/src/hete_net/hete_dgp/predicted_data_hete_net/hete_preds_'+str(scenario_number)+'.csv')\n",
    "    hete_optim = pd.read_csv('/Users/sweiss/src/hete_net/hete_dgp/predicted_data_hete_net/hete_preds_optim_'+str(scenario_number)+'.csv')\n",
    "    hete_r = pd.read_csv('/Users/sweiss/src/hete_net/hete_dgp/predicted_data_hete_net/hete_R_preds_scenario_'+str(scenario_number)+'_t.csv')\n",
    "    preds = [hete_preds.iloc[:,1], np.log(hete_optim.iloc[:,2]/hete_optim.iloc[:,1]), hete_r.iloc[:,1]]\n",
    "\n",
    "    q_score = [eval(x, y_test, t_test)[0] for x in preds]\n",
    "    accuracy_right = [np.mean( ((t_x_test).reshape(len(x),1)>0) == (x.reshape(len(x),1)>0)) for x in preds]\n",
    "    regrets = [regret(t_x_test, x) for x in preds]\n",
    "    expected_profits = [expected_profit(t_x_test, x,y_test_mean, t_test ) for x in preds]\n",
    "    return([q_score,accuracy_right,regrets,expected_profits])\n",
    "\n",
    "scores = [load_return_score(x) for x in range(8)]\n"
   ]
  },
  {
   "cell_type": "code",
   "execution_count": 6,
   "metadata": {},
   "outputs": [
    {
     "data": {
      "text/html": [
       "<div>\n",
       "<style>\n",
       "    .dataframe thead tr:only-child th {\n",
       "        text-align: right;\n",
       "    }\n",
       "\n",
       "    .dataframe thead th {\n",
       "        text-align: left;\n",
       "    }\n",
       "\n",
       "    .dataframe tbody tr th {\n",
       "        vertical-align: top;\n",
       "    }\n",
       "</style>\n",
       "<table border=\"1\" class=\"dataframe\">\n",
       "  <thead>\n",
       "    <tr style=\"text-align: right;\">\n",
       "      <th></th>\n",
       "      <th>0</th>\n",
       "      <th>1</th>\n",
       "      <th>2</th>\n",
       "    </tr>\n",
       "  </thead>\n",
       "  <tbody>\n",
       "    <tr>\n",
       "      <th>0</th>\n",
       "      <td>1.000000</td>\n",
       "      <td>1.000000</td>\n",
       "      <td>1.000000</td>\n",
       "    </tr>\n",
       "    <tr>\n",
       "      <th>1</th>\n",
       "      <td>0.944324</td>\n",
       "      <td>0.953600</td>\n",
       "      <td>0.908762</td>\n",
       "    </tr>\n",
       "    <tr>\n",
       "      <th>2</th>\n",
       "      <td>0.815890</td>\n",
       "      <td>0.999405</td>\n",
       "      <td>0.973666</td>\n",
       "    </tr>\n",
       "    <tr>\n",
       "      <th>3</th>\n",
       "      <td>0.653770</td>\n",
       "      <td>1.000000</td>\n",
       "      <td>0.454754</td>\n",
       "    </tr>\n",
       "    <tr>\n",
       "      <th>4</th>\n",
       "      <td>0.805536</td>\n",
       "      <td>0.813655</td>\n",
       "      <td>0.810838</td>\n",
       "    </tr>\n",
       "    <tr>\n",
       "      <th>5</th>\n",
       "      <td>0.929633</td>\n",
       "      <td>0.915042</td>\n",
       "      <td>0.908458</td>\n",
       "    </tr>\n",
       "    <tr>\n",
       "      <th>6</th>\n",
       "      <td>0.947985</td>\n",
       "      <td>0.947992</td>\n",
       "      <td>0.926995</td>\n",
       "    </tr>\n",
       "    <tr>\n",
       "      <th>7</th>\n",
       "      <td>0.933607</td>\n",
       "      <td>0.975042</td>\n",
       "      <td>0.786281</td>\n",
       "    </tr>\n",
       "  </tbody>\n",
       "</table>\n",
       "</div>"
      ],
      "text/plain": [
       "          0         1         2\n",
       "0  1.000000  1.000000  1.000000\n",
       "1  0.944324  0.953600  0.908762\n",
       "2  0.815890  0.999405  0.973666\n",
       "3  0.653770  1.000000  0.454754\n",
       "4  0.805536  0.813655  0.810838\n",
       "5  0.929633  0.915042  0.908458\n",
       "6  0.947985  0.947992  0.926995\n",
       "7  0.933607  0.975042  0.786281"
      ]
     },
     "execution_count": 6,
     "metadata": {},
     "output_type": "execute_result"
    }
   ],
   "source": [
    "pd.DataFrame(x[3] for x in scores)"
   ]
  },
  {
   "cell_type": "code",
   "execution_count": 4,
   "metadata": {},
   "outputs": [
    {
     "name": "stderr",
     "output_type": "stream",
     "text": [
      "/Library/Frameworks/Python.framework/Versions/3.6/lib/python3.6/site-packages/ipykernel_launcher.py:42: RuntimeWarning: invalid value encountered in true_divide\n",
      "/Library/Frameworks/Python.framework/Versions/3.6/lib/python3.6/site-packages/ipykernel_launcher.py:43: RuntimeWarning: invalid value encountered in true_divide\n",
      "/Library/Frameworks/Python.framework/Versions/3.6/lib/python3.6/site-packages/ipykernel_launcher.py:16: FutureWarning: reshape is deprecated and will raise in a subsequent release. Please use .values.reshape(...) instead\n",
      "  app.launch_new_instance()\n",
      "/Library/Frameworks/Python.framework/Versions/3.6/lib/python3.6/site-packages/ipykernel_launcher.py:61: FutureWarning: reshape is deprecated and will raise in a subsequent release. Please use .values.reshape(...) instead\n",
      "/Library/Frameworks/Python.framework/Versions/3.6/lib/python3.6/site-packages/ipykernel_launcher.py:76: FutureWarning: reshape is deprecated and will raise in a subsequent release. Please use .values.reshape(...) instead\n"
     ]
    }
   ],
   "source": [
    "%matplotlib inline\n",
    "\n",
    "import matplotlib\n",
    "import numpy as np\n",
    "import matplotlib.pyplot as plt\n",
    "\n",
    "scenario_number = 2\n",
    "\n",
    "t_train, t_test, t_x_train, t_x_test, X_train, X_test, y_train,y_test, y_train_mean, y_test_mean = load_data(scenario_number, directory = 'created_data/')\n",
    "hete_preds = pd.read_csv('/Users/sweiss/src/hete_net/hete_dgp/predicted_data_hete_net/hete_preds_'+str(scenario_number)+'.csv')\n",
    "hete_optim = pd.read_csv('/Users/sweiss/src/hete_net/hete_dgp/predicted_data_hete_net/hete_preds_optim_'+str(scenario_number)+'.csv')\n",
    "hete_r = pd.read_csv('/Users/sweiss/src/hete_net/hete_dgp/predicted_data_hete_net/hete_R_preds_scenario_'+str(scenario_number)+'_t.csv')\n",
    "preds = [hete_preds.iloc[:,1], np.log(hete_optim.iloc[:,2]/hete_optim.iloc[:,1]), hete_r.iloc[:,1]]\n",
    "\n",
    "q_score = [eval(x, y_test, t_test)[0] for x in preds]\n",
    "accuracy_right = [np.mean( ((t_x_test).reshape(len(x),1)>0) == (x.reshape(len(x),1)>0)) for x in preds]\n",
    "regrets = [regret(t_x_test, x) for x in preds]\n",
    "expected_profits = [expected_profit(t_x_test, x,y_test_mean, t_test ) for x in preds]"
   ]
  },
  {
   "cell_type": "code",
   "execution_count": 63,
   "metadata": {},
   "outputs": [
    {
     "data": {
      "text/plain": [
       "[0.8158896086897026, 0.9994053936893676, 0.9736661854180482]"
      ]
     },
     "execution_count": 63,
     "metadata": {},
     "output_type": "execute_result"
    }
   ],
   "source": [
    "expected_profits"
   ]
  },
  {
   "cell_type": "code",
   "execution_count": 64,
   "metadata": {},
   "outputs": [
    {
     "data": {
      "text/plain": [
       "[0.07847374446110403, -0.051255757078560345, -0.0991910848030285]"
      ]
     },
     "execution_count": 64,
     "metadata": {},
     "output_type": "execute_result"
    }
   ],
   "source": [
    "q_score"
   ]
  },
  {
   "cell_type": "code",
   "execution_count": 1,
   "metadata": {},
   "outputs": [
    {
     "ename": "NameError",
     "evalue": "name 'pd' is not defined",
     "output_type": "error",
     "traceback": [
      "\u001b[0;31m---------------------------------------------------------------------------\u001b[0m",
      "\u001b[0;31mNameError\u001b[0m                                 Traceback (most recent call last)",
      "\u001b[0;32m<ipython-input-1-c7fa571b18b5>\u001b[0m in \u001b[0;36m<module>\u001b[0;34m()\u001b[0m\n\u001b[0;32m----> 1\u001b[0;31m \u001b[0mdf\u001b[0m \u001b[0;34m=\u001b[0m \u001b[0mpd\u001b[0m\u001b[0;34m.\u001b[0m\u001b[0mDataFrame\u001b[0m\u001b[0;34m(\u001b[0m\u001b[0mpreds\u001b[0m\u001b[0;34m)\u001b[0m\u001b[0;34m\u001b[0m\u001b[0m\n\u001b[0m\u001b[1;32m      2\u001b[0m \u001b[0mpd\u001b[0m\u001b[0;34m.\u001b[0m\u001b[0mtools\u001b[0m\u001b[0;34m.\u001b[0m\u001b[0mplotting\u001b[0m\u001b[0;34m.\u001b[0m\u001b[0mscatter_matrix\u001b[0m\u001b[0;34m(\u001b[0m\u001b[0mdf\u001b[0m\u001b[0;34m,\u001b[0m \u001b[0malpha\u001b[0m\u001b[0;34m=\u001b[0m\u001b[0;36m0.2\u001b[0m\u001b[0;34m)\u001b[0m\u001b[0;34m\u001b[0m\u001b[0m\n",
      "\u001b[0;31mNameError\u001b[0m: name 'pd' is not defined"
     ]
    }
   ],
   "source": [
    "df = pd.DataFrame(preds)\n",
    "pd.tools.plotting.scatter_matrix(df, alpha=0.2)\n"
   ]
  },
  {
   "cell_type": "code",
   "execution_count": 46,
   "metadata": {},
   "outputs": [
    {
     "data": {
      "text/plain": [
       "<matplotlib.collections.PathCollection at 0x118478780>"
      ]
     },
     "execution_count": 46,
     "metadata": {},
     "output_type": "execute_result"
    },
    {
     "data": {
      "image/png": "[encoded data removed]",
      "text/plain": [
       "<Figure size 432x288 with 1 Axes>"
      ]
     },
     "metadata": {},
     "output_type": "display_data"
    }
   ],
   "source": [
    "plt.scatter(y_test_mean - (t_test - .5)*t_x_test, y_test_mean)\n"
   ]
  },
  {
   "cell_type": "code",
   "execution_count": null,
   "metadata": {
    "collapsed": true
   },
   "outputs": [],
   "source": []
  }
 ],
 "metadata": {
  "kernelspec": {
   "display_name": "Python 3",
   "language": "python",
   "name": "python3"
  }
 },
 "nbformat": 4,
 "nbformat_minor": 2
}
