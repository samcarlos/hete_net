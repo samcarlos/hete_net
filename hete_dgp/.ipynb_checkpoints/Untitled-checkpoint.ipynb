{
 "cells": [
  {
   "cell_type": "code",
   "execution_count": 1,
   "metadata": {},
   "outputs": [
    {
     "name": "stderr",
     "output_type": "stream",
     "text": [
      "Using TensorFlow backend.\n",
      "/Library/Frameworks/Python.framework/Versions/3.6/lib/python3.6/site-packages/sklearn/cross_validation.py:44: DeprecationWarning: This module was deprecated in version 0.18 in favor of the model_selection module into which all the refactored classes and functions are moved. Also note that the interface of the new CV iterators are different from that of this module. This module will be removed in 0.20.\n",
      "  \"This module will be removed in 0.20.\", DeprecationWarning)\n",
      "/Library/Frameworks/Python.framework/Versions/3.6/lib/python3.6/site-packages/sklearn/grid_search.py:43: DeprecationWarning: This module was deprecated in version 0.18 in favor of the model_selection module into which all the refactored classes and functions are moved. This module will be removed in 0.20.\n",
      "  DeprecationWarning)\n"
     ]
    }
   ],
   "source": [
    "from load_data import load_data\n",
    "from hete_optim import gridsearch_hete_optim_action, hete_optim_action, lelu\n",
    "import pandas as pd\n",
    "import numpy as np\n",
    "\n",
    "def load_data(scenario, directory = '/Users/sweiss/src/hete_net/hete_dgp/created_data/'):\n",
    "  t = np.array(pd.read_csv(directory+'scenario_'+str(scenario)+'_t.csv'))\n",
    "  t_x = np.array(pd.read_csv(directory+'scenario_'+str(scenario)+'_t_x.csv'))\n",
    "  x = np.array(pd.read_csv(directory+'scenario_'+str(scenario)+'_x.csv'))\n",
    "  y = np.array(pd.read_csv(directory+'scenario_'+str(scenario)+'_y.csv'))\n",
    "\n",
    "  t_train = t[:15000]\n",
    "  t_x_train = t_x[:15000]\n",
    "  x_train = x[:15000]\n",
    "  y_train = y[:15000]\n",
    "\n",
    "  t_test = t[15000:]\n",
    "  t_x_test = t_x[15000:]\n",
    "  x_test = x[15000:]\n",
    "  y_test = y[15000:]\n",
    "\n",
    "  return([t_train, t_test, t_x_train, t_x_test, x_train, x_test, y_train,y_test])\n",
    "\n",
    "scenario_number = 1\n",
    "t_train, t_test, t_x_train, t_x_test, X_train, X_test, y_train,y_test = load_data(scenario_number)\n"
   ]
  },
  {
   "cell_type": "code",
   "execution_count": 2,
   "metadata": {},
   "outputs": [
    {
     "data": {
      "text/plain": [
       "(array([   6.,   23.,  146.,  336., 1910.,  299.,  221.,   47.,   10.,\n",
       "           2.]),\n",
       " array([-7.22041031, -5.58609198, -3.95177365, -2.31745532, -0.683137  ,\n",
       "         0.95118133,  2.58549966,  4.21981799,  5.85413632,  7.48845465,\n",
       "         9.12277297]),\n",
       " <a list of 10 Patch objects>)"
      ]
     },
     "execution_count": 2,
     "metadata": {},
     "output_type": "execute_result"
    },
    {
     "data": {
      "image/png": "[encoded data removed]",
      "text/plain": [
       "<Figure size 432x288 with 1 Axes>"
      ]
     },
     "metadata": {},
     "output_type": "display_data"
    }
   ],
   "source": [
    "%matplotlib inline\n",
    "\n",
    "import matplotlib\n",
    "import numpy as np\n",
    "import matplotlib.pyplot as plt\n",
    "\n",
    "plt.hist(t_x_test)"
   ]
  },
  {
   "cell_type": "code",
   "execution_count": 52,
   "metadata": {},
   "outputs": [
    {
     "name": "stdout",
     "output_type": "stream",
     "text": [
      "Epoch 1/50\n",
      "15000/15000 [==============================] - 1s 91us/step - loss: -0.1613\n",
      "Epoch 2/50\n",
      "15000/15000 [==============================] - 1s 63us/step - loss: -0.1680\n",
      "Epoch 3/50\n",
      "15000/15000 [==============================] - 1s 58us/step - loss: -0.1751\n",
      "Epoch 4/50\n",
      "15000/15000 [==============================] - 1s 56us/step - loss: -0.1831\n",
      "Epoch 5/50\n",
      "15000/15000 [==============================] - 1s 57us/step - loss: -0.1891\n",
      "Epoch 6/50\n",
      "15000/15000 [==============================] - 1s 57us/step - loss: -0.1931\n",
      "Epoch 7/50\n",
      "15000/15000 [==============================] - 1s 57us/step - loss: -0.2005\n",
      "Epoch 8/50\n",
      "15000/15000 [==============================] - 1s 56us/step - loss: -0.2067\n",
      "Epoch 9/50\n",
      "15000/15000 [==============================] - 1s 58us/step - loss: -0.2152\n",
      "Epoch 10/50\n",
      "15000/15000 [==============================] - 1s 58us/step - loss: -0.2201\n",
      "Epoch 11/50\n",
      "15000/15000 [==============================] - 1s 60us/step - loss: -0.2275\n",
      "Epoch 12/50\n",
      "15000/15000 [==============================] - 1s 56us/step - loss: -0.2327\n",
      "Epoch 13/50\n",
      "15000/15000 [==============================] - 1s 55us/step - loss: -0.2375\n",
      "Epoch 14/50\n",
      "15000/15000 [==============================] - 1s 57us/step - loss: -0.2431\n",
      "Epoch 15/50\n",
      "15000/15000 [==============================] - 1s 59us/step - loss: -0.2465\n",
      "Epoch 16/50\n",
      "15000/15000 [==============================] - 1s 59us/step - loss: -0.2512\n",
      "Epoch 17/50\n",
      "15000/15000 [==============================] - 1s 60us/step - loss: -0.2532\n",
      "Epoch 18/50\n",
      "15000/15000 [==============================] - 1s 59us/step - loss: -0.2553\n",
      "Epoch 19/50\n",
      "15000/15000 [==============================] - 1s 58us/step - loss: -0.2591\n",
      "Epoch 20/50\n",
      "15000/15000 [==============================] - 1s 56us/step - loss: -0.2617\n",
      "Epoch 21/50\n",
      "15000/15000 [==============================] - 1s 60us/step - loss: -0.2657\n",
      "Epoch 22/50\n",
      "15000/15000 [==============================] - 1s 57us/step - loss: -0.2660\n",
      "Epoch 23/50\n",
      "15000/15000 [==============================] - 1s 59us/step - loss: -0.2683\n",
      "Epoch 24/50\n",
      "15000/15000 [==============================] - 1s 59us/step - loss: -0.2698\n",
      "Epoch 25/50\n",
      "15000/15000 [==============================] - 1s 59us/step - loss: -0.2707\n",
      "Epoch 26/50\n",
      "15000/15000 [==============================] - 1s 57us/step - loss: -0.2727\n",
      "Epoch 27/50\n",
      "15000/15000 [==============================] - 1s 54us/step - loss: -0.2736\n",
      "Epoch 28/50\n",
      "15000/15000 [==============================] - 1s 54us/step - loss: -0.2747\n",
      "Epoch 29/50\n",
      "15000/15000 [==============================] - 1s 51us/step - loss: -0.2776\n",
      "Epoch 30/50\n",
      "15000/15000 [==============================] - 1s 54us/step - loss: -0.2784\n",
      "Epoch 31/50\n",
      "15000/15000 [==============================] - 1s 54us/step - loss: -0.2782\n",
      "Epoch 32/50\n",
      "15000/15000 [==============================] - 1s 51us/step - loss: -0.2797\n",
      "Epoch 33/50\n",
      "15000/15000 [==============================] - 1s 51us/step - loss: -0.2808\n",
      "Epoch 34/50\n",
      "15000/15000 [==============================] - 1s 57us/step - loss: -0.2816\n",
      "Epoch 35/50\n",
      "15000/15000 [==============================] - 1s 54us/step - loss: -0.2825\n",
      "Epoch 36/50\n",
      "15000/15000 [==============================] - 1s 54us/step - loss: -0.2833\n",
      "Epoch 37/50\n",
      "15000/15000 [==============================] - 1s 53us/step - loss: -0.2838\n",
      "Epoch 38/50\n",
      "15000/15000 [==============================] - 1s 63us/step - loss: -0.2840\n",
      "Epoch 39/50\n",
      "15000/15000 [==============================] - 1s 64us/step - loss: -0.2854\n",
      "Epoch 40/50\n",
      "15000/15000 [==============================] - 1s 63us/step - loss: -0.2853\n",
      "Epoch 41/50\n",
      "15000/15000 [==============================] - 1s 63us/step - loss: -0.2866\n",
      "Epoch 42/50\n",
      "15000/15000 [==============================] - 1s 67us/step - loss: -0.2871\n",
      "Epoch 43/50\n",
      "15000/15000 [==============================] - 1s 64us/step - loss: -0.2854\n",
      "Epoch 44/50\n",
      "15000/15000 [==============================] - 1s 63us/step - loss: -0.2881\n",
      "Epoch 45/50\n",
      "15000/15000 [==============================] - 1s 62us/step - loss: -0.2877\n",
      "Epoch 46/50\n",
      "15000/15000 [==============================] - 1s 63us/step - loss: -0.2880\n",
      "Epoch 47/50\n",
      "15000/15000 [==============================] - 1s 62us/step - loss: -0.2883\n",
      "Epoch 48/50\n",
      "15000/15000 [==============================] - 1s 59us/step - loss: -0.2895\n",
      "Epoch 49/50\n",
      "15000/15000 [==============================] - 1s 59us/step - loss: -0.2909\n",
      "Epoch 50/50\n",
      "15000/15000 [==============================] - 1s 60us/step - loss: -0.2900\n"
     ]
    },
    {
     "data": {
      "text/plain": [
       "<keras.callbacks.History at 0x137650b70>"
      ]
     },
     "execution_count": 52,
     "metadata": {},
     "output_type": "execute_result"
    }
   ],
   "source": [
    "model = hete_optim_action(X_train.shape[1],128,.5, 1, 'relu' )\n",
    "dummy_y_train = np.concatenate([1-t_train, t_train, y_train], axis = 1)\n",
    "\n",
    "model.fit([X_train,X_train[:,0]],np.array(dummy_y_train),epochs = 50)"
   ]
  },
  {
   "cell_type": "code",
   "execution_count": 51,
   "metadata": {},
   "outputs": [
    {
     "name": "stdout",
     "output_type": "stream",
     "text": [
      "0.3491655969191271\n",
      "0.2933425797503467\n"
     ]
    },
    {
     "name": "stderr",
     "output_type": "stream",
     "text": [
      "/Library/Frameworks/Python.framework/Versions/3.6/lib/python3.6/site-packages/ipykernel_launcher.py:4: RuntimeWarning: divide by zero encountered in true_divide\n",
      "  after removing the cwd from sys.path.\n",
      "/Library/Frameworks/Python.framework/Versions/3.6/lib/python3.6/site-packages/ipykernel_launcher.py:4: RuntimeWarning: divide by zero encountered in log\n",
      "  after removing the cwd from sys.path.\n"
     ]
    },
    {
     "data": {
      "text/plain": [
       "<matplotlib.collections.PathCollection at 0x136b28da0>"
      ]
     },
     "execution_count": 51,
     "metadata": {},
     "output_type": "execute_result"
    },
    {
     "data": {
      "image/png": "[encoded data removed]",
      "text/plain": [
       "<Figure size 432x288 with 1 Axes>"
      ]
     },
     "metadata": {},
     "output_type": "display_data"
    }
   ],
   "source": [
    "predictions = model.predict([X_test,X_test[:,0]])\n",
    "print(y_test[np.where(predictions[:,1]>.5)[0]].mean())\n",
    "print(y_test[np.where(predictions[:,0]>.5)[0]].mean())\n",
    "plt.scatter(np.log(predictions[:,0]/(1-predictions[:,0])), t_x_test)"
   ]
  },
  {
   "cell_type": "code",
   "execution_count": 49,
   "metadata": {},
   "outputs": [
    {
     "data": {
      "text/plain": [
       "array([   0,    1,    2, ..., 2997, 2998, 2999])"
      ]
     },
     "execution_count": 49,
     "metadata": {},
     "output_type": "execute_result"
    }
   ],
   "source": [
    "np.where(predictions[:,0]>0)[0]"
   ]
  },
  {
   "cell_type": "code",
   "execution_count": 40,
   "metadata": {},
   "outputs": [
    {
     "name": "stdout",
     "output_type": "stream",
     "text": [
      "Epoch 1/50\n",
      "10000/10000 [==============================] - 1s 67us/step - loss: -0.1563\n",
      "Epoch 2/50\n",
      "10000/10000 [==============================] - 0s 40us/step - loss: -0.1603\n",
      "Epoch 3/50\n",
      "10000/10000 [==============================] - 0s 43us/step - loss: -0.1621\n",
      "Epoch 4/50\n",
      "10000/10000 [==============================] - 0s 40us/step - loss: -0.1695\n",
      "Epoch 5/50\n",
      "10000/10000 [==============================] - 0s 41us/step - loss: -0.1738\n",
      "Epoch 6/50\n",
      "10000/10000 [==============================] - 0s 40us/step - loss: -0.1812\n",
      "Epoch 7/50\n",
      "10000/10000 [==============================] - 0s 40us/step - loss: -0.1885\n",
      "Epoch 8/50\n",
      " 1824/10000 [====>.........................] - ETA: 0s - loss: -0.1892"
     ]
    },
    {
     "ename": "KeyboardInterrupt",
     "evalue": "",
     "output_type": "error",
     "traceback": [
      "\u001b[0;31m---------------------------------------------------------------------------\u001b[0m",
      "\u001b[0;31mKeyboardInterrupt\u001b[0m                         Traceback (most recent call last)",
      "\u001b[0;32m<ipython-input-40-303c0aca007b>\u001b[0m in \u001b[0;36m<module>\u001b[0;34m()\u001b[0m\n\u001b[1;32m      1\u001b[0m \u001b[0;34m\u001b[0m\u001b[0m\n\u001b[1;32m      2\u001b[0m \u001b[0;34m\u001b[0m\u001b[0m\n\u001b[0;32m----> 3\u001b[0;31m \u001b[0mmodel\u001b[0m \u001b[0;34m=\u001b[0m \u001b[0mgridsearch_hete_optim_action\u001b[0m\u001b[0;34m(\u001b[0m\u001b[0mX_train\u001b[0m\u001b[0;34m,\u001b[0m \u001b[0mt_train\u001b[0m\u001b[0;34m,\u001b[0m \u001b[0my_train\u001b[0m\u001b[0;34m)\u001b[0m\u001b[0;34m\u001b[0m\u001b[0m\n\u001b[0m\u001b[1;32m      4\u001b[0m \u001b[0;34m\u001b[0m\u001b[0m\n\u001b[1;32m      5\u001b[0m \u001b[0;34m\u001b[0m\u001b[0m\n",
      "\u001b[0;32m~/src/hete_net/hete_dgp/hete_optim.py\u001b[0m in \u001b[0;36mgridsearch_hete_optim_action\u001b[0;34m(X_train, tmt_control, y_train)\u001b[0m\n\u001b[1;32m     88\u001b[0m \u001b[0;34m\u001b[0m\u001b[0m\n\u001b[1;32m     89\u001b[0m             mod.fit([X_train[train_index], X_train[train_index][:,0]],\n\u001b[0;32m---> 90\u001b[0;31m                     dummy_y_train[train_index], epochs = 50)\n\u001b[0m\u001b[1;32m     91\u001b[0m \u001b[0;34m\u001b[0m\u001b[0m\n\u001b[1;32m     92\u001b[0m             \u001b[0mpreds\u001b[0m \u001b[0;34m=\u001b[0m \u001b[0mmod\u001b[0m\u001b[0;34m.\u001b[0m\u001b[0mpredict\u001b[0m\u001b[0;34m(\u001b[0m\u001b[0;34m[\u001b[0m\u001b[0mX_train\u001b[0m\u001b[0;34m[\u001b[0m\u001b[0mtest_index\u001b[0m\u001b[0;34m]\u001b[0m\u001b[0;34m,\u001b[0m \u001b[0mX_train\u001b[0m\u001b[0;34m[\u001b[0m\u001b[0mtest_index\u001b[0m\u001b[0;34m]\u001b[0m\u001b[0;34m[\u001b[0m\u001b[0;34m:\u001b[0m\u001b[0;34m,\u001b[0m\u001b[0;36m0\u001b[0m\u001b[0;34m]\u001b[0m\u001b[0;34m]\u001b[0m\u001b[0;34m)\u001b[0m\u001b[0;34m\u001b[0m\u001b[0m\n",
      "\u001b[0;32m/Library/Frameworks/Python.framework/Versions/3.6/lib/python3.6/site-packages/keras/engine/training.py\u001b[0m in \u001b[0;36mfit\u001b[0;34m(self, x, y, batch_size, epochs, verbose, callbacks, validation_split, validation_data, shuffle, class_weight, sample_weight, initial_epoch, steps_per_epoch, validation_steps, **kwargs)\u001b[0m\n\u001b[1;32m   1040\u001b[0m                                         \u001b[0minitial_epoch\u001b[0m\u001b[0;34m=\u001b[0m\u001b[0minitial_epoch\u001b[0m\u001b[0;34m,\u001b[0m\u001b[0;34m\u001b[0m\u001b[0m\n\u001b[1;32m   1041\u001b[0m                                         \u001b[0msteps_per_epoch\u001b[0m\u001b[0;34m=\u001b[0m\u001b[0msteps_per_epoch\u001b[0m\u001b[0;34m,\u001b[0m\u001b[0;34m\u001b[0m\u001b[0m\n\u001b[0;32m-> 1042\u001b[0;31m                                         validation_steps=validation_steps)\n\u001b[0m\u001b[1;32m   1043\u001b[0m \u001b[0;34m\u001b[0m\u001b[0m\n\u001b[1;32m   1044\u001b[0m     def evaluate(self, x=None, y=None,\n",
      "\u001b[0;32m/Library/Frameworks/Python.framework/Versions/3.6/lib/python3.6/site-packages/keras/engine/training_arrays.py\u001b[0m in \u001b[0;36mfit_loop\u001b[0;34m(model, f, ins, out_labels, batch_size, epochs, verbose, callbacks, val_f, val_ins, shuffle, callback_metrics, initial_epoch, steps_per_epoch, validation_steps)\u001b[0m\n\u001b[1;32m    197\u001b[0m                     \u001b[0mins_batch\u001b[0m\u001b[0;34m[\u001b[0m\u001b[0mi\u001b[0m\u001b[0;34m]\u001b[0m \u001b[0;34m=\u001b[0m \u001b[0mins_batch\u001b[0m\u001b[0;34m[\u001b[0m\u001b[0mi\u001b[0m\u001b[0;34m]\u001b[0m\u001b[0;34m.\u001b[0m\u001b[0mtoarray\u001b[0m\u001b[0;34m(\u001b[0m\u001b[0;34m)\u001b[0m\u001b[0;34m\u001b[0m\u001b[0m\n\u001b[1;32m    198\u001b[0m \u001b[0;34m\u001b[0m\u001b[0m\n\u001b[0;32m--> 199\u001b[0;31m                 \u001b[0mouts\u001b[0m \u001b[0;34m=\u001b[0m \u001b[0mf\u001b[0m\u001b[0;34m(\u001b[0m\u001b[0mins_batch\u001b[0m\u001b[0;34m)\u001b[0m\u001b[0;34m\u001b[0m\u001b[0m\n\u001b[0m\u001b[1;32m    200\u001b[0m                 \u001b[0;32mif\u001b[0m \u001b[0;32mnot\u001b[0m \u001b[0misinstance\u001b[0m\u001b[0;34m(\u001b[0m\u001b[0mouts\u001b[0m\u001b[0;34m,\u001b[0m \u001b[0mlist\u001b[0m\u001b[0;34m)\u001b[0m\u001b[0;34m:\u001b[0m\u001b[0;34m\u001b[0m\u001b[0m\n\u001b[1;32m    201\u001b[0m                     \u001b[0mouts\u001b[0m \u001b[0;34m=\u001b[0m \u001b[0;34m[\u001b[0m\u001b[0mouts\u001b[0m\u001b[0;34m]\u001b[0m\u001b[0;34m\u001b[0m\u001b[0m\n",
      "\u001b[0;32m/Library/Frameworks/Python.framework/Versions/3.6/lib/python3.6/site-packages/keras/backend/tensorflow_backend.py\u001b[0m in \u001b[0;36m__call__\u001b[0;34m(self, inputs)\u001b[0m\n\u001b[1;32m   2659\u001b[0m                 \u001b[0;32mreturn\u001b[0m \u001b[0mself\u001b[0m\u001b[0;34m.\u001b[0m\u001b[0m_legacy_call\u001b[0m\u001b[0;34m(\u001b[0m\u001b[0minputs\u001b[0m\u001b[0;34m)\u001b[0m\u001b[0;34m\u001b[0m\u001b[0m\n\u001b[1;32m   2660\u001b[0m \u001b[0;34m\u001b[0m\u001b[0m\n\u001b[0;32m-> 2661\u001b[0;31m             \u001b[0;32mreturn\u001b[0m \u001b[0mself\u001b[0m\u001b[0;34m.\u001b[0m\u001b[0m_call\u001b[0m\u001b[0;34m(\u001b[0m\u001b[0minputs\u001b[0m\u001b[0;34m)\u001b[0m\u001b[0;34m\u001b[0m\u001b[0m\n\u001b[0m\u001b[1;32m   2662\u001b[0m         \u001b[0;32melse\u001b[0m\u001b[0;34m:\u001b[0m\u001b[0;34m\u001b[0m\u001b[0m\n\u001b[1;32m   2663\u001b[0m             \u001b[0;32mif\u001b[0m \u001b[0mpy_any\u001b[0m\u001b[0;34m(\u001b[0m\u001b[0mis_tensor\u001b[0m\u001b[0;34m(\u001b[0m\u001b[0mx\u001b[0m\u001b[0;34m)\u001b[0m \u001b[0;32mfor\u001b[0m \u001b[0mx\u001b[0m \u001b[0;32min\u001b[0m \u001b[0minputs\u001b[0m\u001b[0;34m)\u001b[0m\u001b[0;34m:\u001b[0m\u001b[0;34m\u001b[0m\u001b[0m\n",
      "\u001b[0;32m/Library/Frameworks/Python.framework/Versions/3.6/lib/python3.6/site-packages/keras/backend/tensorflow_backend.py\u001b[0m in \u001b[0;36m_call\u001b[0;34m(self, inputs)\u001b[0m\n\u001b[1;32m   2629\u001b[0m                                 \u001b[0msymbol_vals\u001b[0m\u001b[0;34m,\u001b[0m\u001b[0;34m\u001b[0m\u001b[0m\n\u001b[1;32m   2630\u001b[0m                                 session)\n\u001b[0;32m-> 2631\u001b[0;31m         \u001b[0mfetched\u001b[0m \u001b[0;34m=\u001b[0m \u001b[0mself\u001b[0m\u001b[0;34m.\u001b[0m\u001b[0m_callable_fn\u001b[0m\u001b[0;34m(\u001b[0m\u001b[0;34m*\u001b[0m\u001b[0marray_vals\u001b[0m\u001b[0;34m)\u001b[0m\u001b[0;34m\u001b[0m\u001b[0m\n\u001b[0m\u001b[1;32m   2632\u001b[0m         \u001b[0;32mreturn\u001b[0m \u001b[0mfetched\u001b[0m\u001b[0;34m[\u001b[0m\u001b[0;34m:\u001b[0m\u001b[0mlen\u001b[0m\u001b[0;34m(\u001b[0m\u001b[0mself\u001b[0m\u001b[0;34m.\u001b[0m\u001b[0moutputs\u001b[0m\u001b[0;34m)\u001b[0m\u001b[0;34m]\u001b[0m\u001b[0;34m\u001b[0m\u001b[0m\n\u001b[1;32m   2633\u001b[0m \u001b[0;34m\u001b[0m\u001b[0m\n",
      "\u001b[0;32m/Library/Frameworks/Python.framework/Versions/3.6/lib/python3.6/site-packages/tensorflow/python/client/session.py\u001b[0m in \u001b[0;36m__call__\u001b[0;34m(self, *args)\u001b[0m\n\u001b[1;32m   1449\u001b[0m         \u001b[0;32mif\u001b[0m \u001b[0mself\u001b[0m\u001b[0;34m.\u001b[0m\u001b[0m_session\u001b[0m\u001b[0;34m.\u001b[0m\u001b[0m_created_with_new_api\u001b[0m\u001b[0;34m:\u001b[0m\u001b[0;34m\u001b[0m\u001b[0m\n\u001b[1;32m   1450\u001b[0m           return tf_session.TF_SessionRunCallable(\n\u001b[0;32m-> 1451\u001b[0;31m               self._session._session, self._handle, args, status, None)\n\u001b[0m\u001b[1;32m   1452\u001b[0m         \u001b[0;32melse\u001b[0m\u001b[0;34m:\u001b[0m\u001b[0;34m\u001b[0m\u001b[0m\n\u001b[1;32m   1453\u001b[0m           return tf_session.TF_DeprecatedSessionRunCallable(\n",
      "\u001b[0;31mKeyboardInterrupt\u001b[0m: "
     ]
    }
   ],
   "source": [
    "\n",
    "\n",
    "model = gridsearch_hete_optim_action(X_train, t_train, y_train)\n",
    "\n",
    "\n",
    "predictions = model.predict([X_test,X_test[:,0]])\n",
    "pd.DataFrame(predictions).to_csv('/Users/sweiss/src/hete_net/hete_dgp/predicted_data_hete_net/hete_preds_optim_'+str(scenario_number)+'.csv')\n"
   ]
  },
  {
   "cell_type": "code",
   "execution_count": 59,
   "metadata": {},
   "outputs": [],
   "source": [
    "from hete_net_interactions import gridsearch_hete_model, hete_model\n",
    "mode , base= hete_model(X_train.shape[1], 256, .5)"
   ]
  },
  {
   "cell_type": "code",
   "execution_count": null,
   "metadata": {},
   "outputs": [
    {
     "name": "stdout",
     "output_type": "stream",
     "text": [
      "Epoch 1/50\n",
      "15000/15000 [==============================] - 1s 88us/step - loss: 0.1894\n",
      "Epoch 2/50\n",
      "15000/15000 [==============================] - 1s 90us/step - loss: 0.1679\n",
      "Epoch 3/50\n",
      "15000/15000 [==============================] - 1s 88us/step - loss: 0.1548\n",
      "Epoch 4/50\n",
      "15000/15000 [==============================] - 1s 94us/step - loss: 0.1501\n",
      "Epoch 5/50\n",
      "15000/15000 [==============================] - 1s 90us/step - loss: 0.1441\n",
      "Epoch 6/50\n",
      "15000/15000 [==============================] - 1s 87us/step - loss: 0.1383\n",
      "Epoch 7/50\n",
      "15000/15000 [==============================] - 1s 89us/step - loss: 0.1358\n",
      "Epoch 8/50\n",
      "15000/15000 [==============================] - 1s 87us/step - loss: 0.1305\n",
      "Epoch 9/50\n",
      "15000/15000 [==============================] - 1s 89us/step - loss: 0.1272\n",
      "Epoch 10/50\n",
      "15000/15000 [==============================] - 1s 88us/step - loss: 0.1226\n",
      "Epoch 11/50\n",
      "15000/15000 [==============================] - 1s 87us/step - loss: 0.1183\n",
      "Epoch 12/50\n",
      "15000/15000 [==============================] - 1s 87us/step - loss: 0.1163\n",
      "Epoch 13/50\n",
      "15000/15000 [==============================] - 1s 86us/step - loss: 0.1146\n",
      "Epoch 14/50\n",
      "15000/15000 [==============================] - 1s 88us/step - loss: 0.1110\n",
      "Epoch 15/50\n",
      "15000/15000 [==============================] - 1s 84us/step - loss: 0.1078\n",
      "Epoch 16/50\n",
      "15000/15000 [==============================] - 1s 89us/step - loss: 0.1056\n",
      "Epoch 17/50\n",
      "15000/15000 [==============================] - 1s 90us/step - loss: 0.1023\n",
      "Epoch 18/50\n",
      "15000/15000 [==============================] - 1s 95us/step - loss: 0.1016\n",
      "Epoch 19/50\n",
      "15000/15000 [==============================] - 1s 89us/step - loss: 0.0998\n",
      "Epoch 20/50\n",
      "15000/15000 [==============================] - 1s 91us/step - loss: 0.0976\n",
      "Epoch 21/50\n",
      "15000/15000 [==============================] - 1s 86us/step - loss: 0.0979\n",
      "Epoch 22/50\n",
      "15000/15000 [==============================] - 1s 92us/step - loss: 0.0949\n",
      "Epoch 23/50\n",
      "15000/15000 [==============================] - 1s 93us/step - loss: 0.0916\n",
      "Epoch 24/50\n",
      "15000/15000 [==============================] - 1s 92us/step - loss: 0.0932\n",
      "Epoch 25/50\n",
      "15000/15000 [==============================] - 1s 95us/step - loss: 0.0929\n",
      "Epoch 26/50\n",
      "15000/15000 [==============================] - 1s 97us/step - loss: 0.0894\n",
      "Epoch 27/50\n",
      "15000/15000 [==============================] - 1s 92us/step - loss: 0.0885\n",
      "Epoch 28/50\n",
      "15000/15000 [==============================] - 1s 92us/step - loss: 0.0877\n",
      "Epoch 29/50\n",
      "15000/15000 [==============================] - 1s 90us/step - loss: 0.0877\n",
      "Epoch 30/50\n",
      "15000/15000 [==============================] - 1s 90us/step - loss: 0.0858\n",
      "Epoch 31/50\n",
      "12672/15000 [========================>.....] - ETA: 0s - loss: 0.0865"
     ]
    }
   ],
   "source": [
    "X_train_control = X_train.copy()\n",
    "X_train_control[:,0] = np.unique(X_train_control[:,0])[0]\n",
    "mode.fit([X_train,X_train_control], y_train , epochs = 50)"
   ]
  },
  {
   "cell_type": "code",
   "execution_count": null,
   "metadata": {
    "collapsed": true
   },
   "outputs": [],
   "source": []
  }
 ],
 "metadata": {
  "kernelspec": {
   "display_name": "Python 3",
   "language": "python",
   "name": "python3"
  },
  "language_info": {
   "codemirror_mode": {
    "name": "ipython",
    "version": 3
   },
   "file_extension": ".py",
   "mimetype": "text/x-python",
   "name": "python",
   "nbconvert_exporter": "python",
   "pygments_lexer": "ipython3",
   "version": "3.6.1"
  }
 },
 "nbformat": 4,
 "nbformat_minor": 2
}
